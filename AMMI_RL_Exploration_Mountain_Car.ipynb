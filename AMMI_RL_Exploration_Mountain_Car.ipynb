{
  "nbformat": 4,
  "nbformat_minor": 0,
  "metadata": {
    "kernelspec": {
      "display_name": "Python 3",
      "language": "python",
      "name": "python3"
    },
    "language_info": {
      "codemirror_mode": {
        "name": "ipython",
        "version": 3
      },
      "file_extension": ".py",
      "mimetype": "text/x-python",
      "name": "python",
      "nbconvert_exporter": "python",
      "pygments_lexer": "ipython3",
      "version": "3.8.1"
    },
    "colab": {
      "name": "AMMI RL - Exploration - Mountain Car.ipynb",
      "provenance": [],
      "collapsed_sections": [],
      "include_colab_link": true
    }
  },
  "cells": [
    {
      "cell_type": "markdown",
      "metadata": {
        "id": "view-in-github",
        "colab_type": "text"
      },
      "source": [
        "<a href=\"https://colab.research.google.com/github/Volviane/Reinforcement-learning/blob/master/AMMI_RL_Exploration_Mountain_Car.ipynb\" target=\"_parent\"><img src=\"https://colab.research.google.com/assets/colab-badge.svg\" alt=\"Open In Colab\"/></a>"
      ]
    },
    {
      "cell_type": "code",
      "metadata": {
        "id": "780D9u4ZZxWo",
        "colab_type": "code",
        "colab": {}
      },
      "source": [
        "!pip install gym > /dev/null 2>&1"
      ],
      "execution_count": 0,
      "outputs": []
    },
    {
      "cell_type": "code",
      "metadata": {
        "id": "x20JG4VuaEND",
        "colab_type": "code",
        "colab": {}
      },
      "source": [
        "!pip install gym pyvirtualdisplay > /dev/null 2>&1\n",
        "!apt-get install -y xvfb python-opengl ffmpeg > /dev/null 2>&1"
      ],
      "execution_count": 0,
      "outputs": []
    },
    {
      "cell_type": "code",
      "metadata": {
        "id": "E46IaY_5aEtf",
        "colab_type": "code",
        "outputId": "388efafd-5505-4c38-f8ed-53d3cfa2ff7d",
        "colab": {
          "base_uri": "https://localhost:8080/",
          "height": 34
        }
      },
      "source": [
        "!apt-get update > /dev/null 2>&1\n",
        "!apt-get install cmake > /dev/null 2>&1\n",
        "!pip install --upgrade setuptools 2>&1\n",
        "!pip install ez_setup > /dev/null 2>&1"
      ],
      "execution_count": 1,
      "outputs": [
        {
          "output_type": "stream",
          "text": [
            "Requirement already up-to-date: setuptools in /usr/local/lib/python3.6/dist-packages (45.2.0)\n"
          ],
          "name": "stdout"
        }
      ]
    },
    {
      "cell_type": "code",
      "metadata": {
        "id": "_UWM-gGi76pF",
        "colab_type": "code",
        "colab": {}
      },
      "source": [
        "!git clone https://github.com/rlgammazero/mvarl_hands_on.git > /dev/null 2>&1"
      ],
      "execution_count": 0,
      "outputs": []
    },
    {
      "cell_type": "code",
      "metadata": {
        "id": "J5EbzJ1A78Bk",
        "colab_type": "code",
        "colab": {}
      },
      "source": [
        "import sys\n",
        "sys.path.insert(0, './mvarl_hands_on/utils')"
      ],
      "execution_count": 0,
      "outputs": []
    },
    {
      "cell_type": "code",
      "metadata": {
        "id": "KDPYhYvR7yKZ",
        "colab_type": "code",
        "colab": {}
      },
      "source": [
        "import numpy as np\n",
        "import cvxpy as cp\n",
        "import matplotlib.pyplot as plt\n",
        "%matplotlib inline\n",
        "\n",
        "import gym\n",
        "from gym import logger as gymlogger\n",
        "from gym.wrappers import Monitor\n",
        "gymlogger.set_level(40) #error only\n",
        "\n",
        "import seaborn as sns\n",
        "from pyvirtualdisplay import Display\n",
        "from IPython import display as ipythondisplay\n",
        "from IPython.display import clear_output\n",
        "from pathlib import Path\n",
        "\n",
        "import random, os.path, math, glob, csv, base64, itertools, sys\n",
        "from pprint import pprint\n",
        "\n",
        "import matplotlib\n",
        "import matplotlib.pyplot as plt\n",
        "%matplotlib inline\n",
        "import io\n",
        "from IPython.display import HTML\n",
        "\n",
        "from copy import deepcopy"
      ],
      "execution_count": 0,
      "outputs": []
    },
    {
      "cell_type": "markdown",
      "metadata": {
        "id": "S5twn7Qv7yKf",
        "colab_type": "text"
      },
      "source": [
        "# Discretization of the state space"
      ]
    },
    {
      "cell_type": "code",
      "metadata": {
        "id": "f3WTC2o2coW_",
        "colab_type": "code",
        "colab": {}
      },
      "source": [
        "from discretization import Discretizer\n",
        "\n",
        "class DiscretizedMountainCar(gym.Wrapper):\n",
        "    def __init__(self, n_bins):\n",
        "        env_id = 'MountainCar-v0' \n",
        "        env = gym.make(env_id)\n",
        "        self.env = env\n",
        "        super().__init__(env)\n",
        "        self.min_reward = -1.0\n",
        "        self.max_reward = 0.0\n",
        "\n",
        "        LM = env.observation_space.low\n",
        "        HM = env.observation_space.high\n",
        "        D = len(HM)\n",
        "\n",
        "        bins = []\n",
        "        for i in range(D):\n",
        "            V = np.linspace(LM[i], HM[i], n_bins)\n",
        "            bins.append(V[1:-1])\n",
        "        self.grid = Discretizer(bins=bins)\n",
        "\n",
        "        # Number of states\n",
        "        self.S = self.grid.n_bins()\n",
        "        # Number of actions\n",
        "        self.A = self.env.action_space.n\n",
        "\n",
        "    def step(self, action):\n",
        "        next_state, reward, done, info = self.env.step(action)\n",
        "        reward = (reward - self.min_reward) / (self.max_reward - self.min_reward)\n",
        "        if done:\n",
        "            next_state = self.env.reset()\n",
        "            reward = 1.0\n",
        "        done = False \n",
        "        next_state = self.grid.dpos(next_state)\n",
        "        return next_state, reward, done, info\n",
        "\n",
        "    def reset(self):\n",
        "        state = self.env.reset()\n",
        "        state = self.grid.dpos(state)\n",
        "        return state\n",
        "\n",
        "# Environment\n",
        "n_bins = 10\n",
        "env = DiscretizedMountainCar(n_bins)\n",
        "\n",
        "# Horizon\n",
        "H = 180"
      ],
      "execution_count": 0,
      "outputs": []
    },
    {
      "cell_type": "code",
      "metadata": {
        "id": "7l8433mz7yKh",
        "colab_type": "code",
        "colab": {}
      },
      "source": [
        ""
      ],
      "execution_count": 0,
      "outputs": []
    },
    {
      "cell_type": "markdown",
      "metadata": {
        "id": "hiXHdYle7yKm",
        "colab_type": "text"
      },
      "source": [
        "# Backward induction (aka Value Iteration)"
      ]
    },
    {
      "cell_type": "code",
      "metadata": {
        "id": "Q_KZXn8A7yKo",
        "colab_type": "code",
        "colab": {}
      },
      "source": [
        "def backward_induction(P, R, H):\n",
        "    \"\"\"\n",
        "        Parameters:\n",
        "            P: transition function (S,A,S)-dim matrix\n",
        "            R: reward function (S,A)-dim matrix\n",
        "            H: horizon\n",
        "\n",
        "        Returns:\n",
        "            The optimal V-function: array of shape (horizon, S)\n",
        "            The optimal policy\n",
        "        \n",
        "        V[h, s]\n",
        "    \"\"\"\n",
        "    S, A = P.shape[0], P.shape[1]\n",
        "    policy = np.zeros((H, S), dtype=np.int)\n",
        "    V = np.zeros((H + 1, S))\n",
        "    for h in reversed(range(H)):\n",
        "        for s in range(S):\n",
        "            \"\"\" \n",
        "            Here, we compute V^*(h, s) using the Bellman optimality equation:\n",
        "\n",
        "            V[h, s] = max_a  R[s, a] + sum_{s'} P[s, a, s']*V[h+1, s']\n",
        "            \"\"\"\n",
        "            for a in range(A):\n",
        "                tmp = R[s, a] + np.dot(P[s, a],  V[h + 1])\n",
        "                if (a == 0) or (tmp > V[h, s]):\n",
        "                    policy[h, s] = a\n",
        "                    V[h, s] = tmp\n",
        "    return V, policy"
      ],
      "execution_count": 0,
      "outputs": []
    },
    {
      "cell_type": "markdown",
      "metadata": {
        "id": "pvmhRCN07yKs",
        "colab_type": "text"
      },
      "source": [
        "Compute solution"
      ]
    },
    {
      "cell_type": "markdown",
      "metadata": {
        "id": "v1nCGWuw7yKy",
        "colab_type": "text"
      },
      "source": [
        "## UCBVI (UCRL with exploration bonus)"
      ]
    },
    {
      "cell_type": "code",
      "metadata": {
        "id": "pk0v7jg67yK7",
        "colab_type": "code",
        "colab": {}
      },
      "source": [
        "def UCRL(mdp, H, nb_episodes, VSTAR=0, scale_factor = 2.0):\n",
        "    S, A = mdp.S, mdp.A\n",
        "    policy = np.zeros((H, S), dtype=np.int)\n",
        "    Phat = np.ones((S,A,S)) / S\n",
        "    Rhat = np.zeros((S,A))\n",
        "    N_sas = np.zeros((S,A,S), dtype=np.int)\n",
        "    N_sa = np.zeros((S,A), dtype=np.int)\n",
        "    episode_rewards = np.zeros((nb_episodes,))\n",
        "  \n",
        "    V = H*np.ones((H + 1, S))\n",
        "    V[H, :] = 0\n",
        "\n",
        "    S_sa = np.zeros((S,A)) \n",
        "    for k in range(nb_episodes):\n",
        "        sum_rewards = 0\n",
        "        # run optimistic value iteration\n",
        "        V.fill(0)\n",
        "        for h in reversed(range(H)):\n",
        "            for s in range(S):\n",
        "                temp = np.zeros(A)\n",
        "                for a in range(A):\n",
        "                    nn = N_sa[s, a] + 1\n",
        "                    bonus = scale_factor*np.sqrt(1.0/nn)\n",
        "                    temp[a] = Rhat[s, a] + Phat[s, a].dot(V[h + 1]) + bonus\n",
        "\n",
        "                V[h, s] = min(H-h, temp.max())\n",
        "                policy[h, s] = temp.argmax()\n",
        "        # execute policy\n",
        "        initial_state = state = mdp.reset()\n",
        "        for h in range(H):\n",
        "            action = policy[h][state]\n",
        "            next_state, reward, done, _ = mdp.step(action)\n",
        "\n",
        "            sum_rewards += reward\n",
        "            \n",
        "            # update estimates (Phat, Rhat, N_sa, N_sas)\n",
        "            N_sa[state, action] += 1\n",
        "            N_sas[state, action, next_state] +=1\n",
        "            S_sa[state, action] += reward\n",
        "            \n",
        "            Rhat[state, action] = S_sa[state, action]/N_sa[state, action]\n",
        "            Phat[state, action, :] = N_sas[state, action, :]/N_sa[state, action]\n",
        "\n",
        "            \n",
        "            state = next_state\n",
        "        \n",
        "        # update regret\n",
        "        episode_rewards[k] = sum_rewards\n",
        "        \n",
        "        if k % 5 == 0 or k==1:\n",
        "            print(\"rewards[{}]: {}\".format(k, episode_rewards[k]), end = \", \")\n",
        "            print(\"Number of visited states: \", (N_sa.sum(axis=1) > 0).sum() )\n",
        "            # print(V[0, :])\n",
        "\n",
        "    return episode_rewards, N_sa, Rhat, Phat, policy"
      ],
      "execution_count": 0,
      "outputs": []
    },
    {
      "cell_type": "code",
      "metadata": {
        "id": "0-UTr3Gq7yK_",
        "colab_type": "code",
        "outputId": "8605084f-667c-467a-fb36-db0fe2630877",
        "colab": {
          "base_uri": "https://localhost:8080/",
          "height": 218
        }
      },
      "source": [
        "nb_repetitions = 1\n",
        "nb_episodes = 50\n",
        "rewards = np.zeros((nb_repetitions, nb_episodes))\n",
        "for it in range(nb_repetitions):\n",
        "    print(\"Running simulation: {}\".format(it))\n",
        "    rewards[it], N_sa, Rhat, Phat, policy = UCRL(mdp=env, H=H, nb_episodes=nb_episodes)"
      ],
      "execution_count": 9,
      "outputs": [
        {
          "output_type": "stream",
          "text": [
            "Running simulation: 0\n",
            "rewards[0]: 0.0, Number of visited states:  7\n",
            "rewards[1]: 0.0, Number of visited states:  7\n",
            "rewards[5]: 0.0, Number of visited states:  10\n",
            "rewards[10]: 0.0, Number of visited states:  33\n",
            "rewards[15]: 0.0, Number of visited states:  41\n",
            "rewards[20]: 0.0, Number of visited states:  53\n",
            "rewards[25]: 0.0, Number of visited states:  57\n",
            "rewards[30]: 0.0, Number of visited states:  58\n",
            "rewards[35]: 0.0, Number of visited states:  58\n",
            "rewards[40]: 0.0, Number of visited states:  60\n",
            "rewards[45]: 0.0, Number of visited states:  61\n"
          ],
          "name": "stdout"
        }
      ]
    },
    {
      "cell_type": "code",
      "metadata": {
        "id": "defhQH1NNQUD",
        "colab_type": "code",
        "outputId": "d7887448-a958-4b0b-dd2f-70c38732b66b",
        "colab": {
          "base_uri": "https://localhost:8080/",
          "height": 282
        }
      },
      "source": [
        "plt.plot(np.cumsum(rewards), label=\"Sum of rewards:\")\n",
        "plt.legend()"
      ],
      "execution_count": 10,
      "outputs": [
        {
          "output_type": "execute_result",
          "data": {
            "text/plain": [
              "<matplotlib.legend.Legend at 0x7f5e97bf6b70>"
            ]
          },
          "metadata": {
            "tags": []
          },
          "execution_count": 10
        },
        {
          "output_type": "display_data",
          "data": {
            "image/png": "[encoded data removed]",
            "text/plain": [
              "<Figure size 432x288 with 1 Axes>"
            ]
          },
          "metadata": {
            "tags": []
          }
        }
      ]
    },
    {
      "cell_type": "code",
      "metadata": {
        "id": "uhDoPAA5YCLJ",
        "colab_type": "code",
        "outputId": "3344250d-06a6-4652-f1e5-4a2fde6a5519",
        "colab": {
          "base_uri": "https://localhost:8080/",
          "height": 438
        }
      },
      "source": [
        "# The following code is will be used to visualize the environments.\n",
        "def show_video(directory):\n",
        "    html = []\n",
        "    for mp4 in Path(directory).glob(\"*.mp4\"):\n",
        "        video_b64 = base64.b64encode(mp4.read_bytes())\n",
        "        html.append('''<video alt=\"{}\" autoplay \n",
        "                      loop controls style=\"height: 400px;\">\n",
        "                      <source src=\"data:video/mp4;base64,{}\" type=\"video/mp4\" />\n",
        "                 </video>'''.format(mp4, video_b64.decode('ascii')))\n",
        "    ipythondisplay.display(ipythondisplay.HTML(data=\"<br>\".join(html)))\n",
        "    \n",
        "def make_seed(seed):\n",
        "    np.random.seed(seed=seed)\n",
        "    torch.manual_seed(seed=seed)\n",
        "  \n",
        "from pyvirtualdisplay import Display\n",
        "display = Display(visible=0, size=(1400, 900))\n",
        "display.start()\n",
        "\n",
        "env = Monitor(env, \"./gym-results\", force=True, video_callable=lambda episode: True)\n",
        "\n",
        "state = env.reset()\n",
        "for hh in range(H): \n",
        "    action = policy[hh, state]\n",
        "    state, reward, done, info = env.step(action)\n",
        "env.close()\n",
        "show_video(\"./gym-results\")"
      ],
      "execution_count": 11,
      "outputs": [
        {
          "output_type": "stream",
          "text": [
            "xdpyinfo was not found, X start can not be checked! Please install xdpyinfo!\n"
          ],
          "name": "stderr"
        },
        {
          "output_type": "display_data",
          "data": {
            "text/html": [
              "<video alt=\"gym-results/openaigym.video.0.879.video000000.mp4\" autoplay \n",
              "                      loop controls style=\"height: 400px;\">\n",
              "                      <source src=\"data:video/mp4;base64,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\" type=\"video/mp4\" />\n",
              "                 </video>"
            ],
            "text/plain": [
              "<IPython.core.display.HTML object>"
            ]
          },
          "metadata": {
            "tags": []
          }
        }
      ]
    },
    {
      "cell_type": "code",
      "metadata": {
        "id": "BL-vQpNIjw4e",
        "colab_type": "code",
        "colab": {}
      },
      "source": [
        ""
      ],
      "execution_count": 0,
      "outputs": []
    }
  ]
}